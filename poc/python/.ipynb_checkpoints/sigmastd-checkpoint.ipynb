{
 "cells": [
  {
   "cell_type": "markdown",
   "id": "5c04b711",
   "metadata": {},
   "source": [
    "# Introduction\n",
    "\n",
    "This notebook provides simple implementations of the sigma protocols specified [here](https://github.com/zkpstandard/wg-sigma-protocols/)"
   ]
  },
  {
   "cell_type": "code",
   "execution_count": 1,
   "id": "d22dc831",
   "metadata": {},
   "outputs": [],
   "source": [
    "from hashlib import sha256 as hash_function # not recommended for real implementations"
   ]
  },
  {
   "cell_type": "markdown",
   "id": "8ed4b338",
   "metadata": {},
   "source": [
    "* `prover_commit` generates a commitment `T` and a prover state `pstate`. The prover commits to the secret witness in a way that doesn't reveal anything about the witness itself. Commitment `T` is sent to the verifier, and `pstate` is kept secret.\n",
    "* `prover_response` provides a proof of knowledge given a challenge and a prover state.\n",
    "* `label` describes the statement, parameters, and relation being proven in a 32 byte string. It's used for computing the Fiat-Shamir transform. \n",
    "* `simulate_commitment` computes a uniformly random resonse from the same distribution as `prover_commit`, given challenge and response. \n",
    "* `simulate_response` computes a uniformly random response from the same distribution as `prover_response`."
   ]
  },
  {
   "cell_type": "code",
   "execution_count": 2,
   "id": "89e6b847",
   "metadata": {},
   "outputs": [],
   "source": [
    "class SigmaProtocol:\n",
    "    def prover_commit(self, witness):\n",
    "        pass\n",
    "\n",
    "    def prover_response(self, state, challenge):\n",
    "        pass\n",
    "      \n",
    "    def label(self):\n",
    "        pass\n",
    "    \n",
    "    def simulate_commitment(self, challenge, response):\n",
    "        pass\n",
    "    \n",
    "    def simulate_response(self):\n",
    "        pass\n",
    "    \n",
    "    def verifier(self, commitment, challenge, response):\n",
    "        pass"
   ]
  },
  {
   "cell_type": "markdown",
   "id": "0a1da700",
   "metadata": {},
   "source": [
    "`SigmaAndComposition` is used to prove knowledge of two independent witnesses. \n",
    "\n",
    "TODO: more detail? "
   ]
  },
  {
   "cell_type": "code",
   "execution_count": 3,
   "id": "ec421eb6",
   "metadata": {},
   "outputs": [],
   "source": [
    "class SigmaAndComposition(SigmaProtocol):\n",
    "\n",
    "    # Left and right are both sigma protocols\n",
    "    def __init__(self, left: SigmaProtocol, right: SigmaProtocol):\n",
    "        self.left = left\n",
    "        self.right = right\n",
    "        \n",
    "    def prover_commit(self, witness):\n",
    "        w0, w1 = witness \n",
    "        left_state, left_commitment = self.left.prover_commit(w0)\n",
    "        right_state, right_commitment = self.right.prover_commit(w1)\n",
    "        return (left_state, right_state), (left_commitment, right_commitment)\n",
    "    \n",
    "    def prover_response(self, state, challenge):\n",
    "        left_state, right_state = state\n",
    "        left_response = self.left.prover_response(left_state, challenge)\n",
    "        right_response = self.right.prover_response(right_state, challenge)\n",
    "        return (left_response, right_response)\n",
    "        \n",
    "    def label(self):\n",
    "        label = hash_function()\n",
    "        label.update(\"zkpstd/sigma/and-v0.0.1\")\n",
    "        label.update(self.left.label())\n",
    "        label.update(self.right.label())\n",
    "        return label.digest()\n",
    "    \n",
    "    def simulate_commitment(self, challenge, response):\n",
    "        left_response, right_response = response\n",
    "        left_commitment = self.left.simulate_commitment(challenge, left_response)\n",
    "        right_commitment = self.right.simulate_commitment(challenge, right_response)\n",
    "    \n",
    "    def simulate_response(self):\n",
    "        return (self.left.simulate_response(), self.right.simulate_response())\n",
    "\n",
    "    def verifier(self, commitment, challenge, response):\n",
    "        left_commitment, right_commitment = commitment\n",
    "        left_response, right_response = response\n",
    "        return (self.left.verifier(left_commitment, challenge, left_response)) and \\\n",
    "        (self.right.verifier(right_commitment, challenge, right_response))"
   ]
  },
  {
   "cell_type": "markdown",
   "id": "c8c0c81f",
   "metadata": {},
   "source": [
    "These are parameters for `secp256k1`, one of our standard's supported curves. `Zp` is the scalar field, and `G` is the prime-order group of points."
   ]
  },
  {
   "cell_type": "code",
   "execution_count": 4,
   "id": "fe41f121",
   "metadata": {},
   "outputs": [],
   "source": [
    "# numbers from 0xc9e777de60dff3bb651b89183754bbc633c34b124429afe8cbaff130abb7bff5 \n",
    "\n",
    "from collections import namedtuple\n",
    "\n",
    "Zq = GF(0xfffffffffffffffffffffffffffffffffffffffffffffffffffffffefffffc2f)\n",
    "E = EllipticCurve(Zq, [0, 7])\n",
    "G = E.lift_x(0x79be667ef9dcbbac55a06295ce870b07029bfcdb2dce28d959f2815b16f81798)\n",
    "H = E.lift_x(0xc9e777de60dff3bb651b89183754bbc633c34b124429afe8cbaff130abb7bff5)\n",
    "p = G.order()\n",
    "Zp = GF(p)\n",
    "\n",
    "EC = namedtuple('EC', ['G', 'H', 'E', 'p', 'Fp'])\n",
    "secp256k1 = EC(G, H, E, p, Zp)"
   ]
  },
  {
   "cell_type": "code",
   "execution_count": 5,
   "id": "5d284862",
   "metadata": {},
   "outputs": [],
   "source": [
    "class DlogTemplate(SigmaProtocol):\n",
    "    # n is the input dimension of the homomorphism\n",
    "    # m is the output dimension of the homomorphism\n",
    "    n = None\n",
    "    m = None\n",
    "    \n",
    "    # ec specifies the elliptic curve used\n",
    "    ec = None\n",
    "    \n",
    "    def __init__(self, statement):\n",
    "        assert(len(statement) == self.n)\n",
    "        self.statement = statement\n",
    "        \n",
    "    def prover_commit(self, witness):\n",
    "        assert(len(witness) == self.n)\n",
    "        # nonce is an n-length array of Fp elements\n",
    "        nonce = [self.ec.Fp.random_element() for _ in range(self.n)]\n",
    "        # commitment is an m-length array of G2 elements\n",
    "        commitment = self._morphism(nonce)\n",
    "        prover_state = (witness, nonce)\n",
    "        return (prover_state, commitment)\n",
    "    \n",
    "    # Prover_state is nonce (array of n Fp elements) * witness (array of n Fp elements)\n",
    "    # challenge is an Fp element\n",
    "    # outputs an array of n Fp elements\n",
    "    def prover_response(self, prover_state, challenge):\n",
    "        witness, nonce = prover_state\n",
    "        return [challenge * witness_i + nonce_i for (witness_i, nonce_i) in zip(witness, nonce)]\n",
    "    \n",
    "    def simulate_response(self):\n",
    "        return [self.ec.Fp.random_element() for _ in range(self.m)]\n",
    "    \n",
    "    def simulate_commitment(self, challenge, response):\n",
    "        return [out_i - statement_i * Integer(challenge) for (out_i, statement_i) in zip(self._morphism(response), self.statement)]\n",
    "\n",
    "    def _morphism(self, x):\n",
    "        raise NotImplementedError\n",
    "        \n",
    "    def _morphism_label(self):\n",
    "        raise NonImplementedError\n",
    "    \n",
    "    def label(self):\n",
    "        return self._morphism_label()\n",
    "    # TODO self.pk -> self.statement?\n",
    "    def verifier(self, commitment, challenge, response):\n",
    "        return all(phi_response_i == commitment_i + statement_i * int(challenge)\n",
    "            for phi_response_i, commitment_i, statement_i in zip(self._morphism(response), commitment, self.statement))"
   ]
  },
  {
   "cell_type": "code",
   "execution_count": 6,
   "id": "f85ed2eb",
   "metadata": {},
   "outputs": [],
   "source": [
    "class SchnorrDlog(DlogTemplate):\n",
    "    ec = secp256k1\n",
    "    n = 1\n",
    "    m = 1\n",
    "    \n",
    "    # Inputs an array of one Fp element `x`\n",
    "    # Outputs `[G * x]`\n",
    "    def _morphism(self, x):\n",
    "        return [self.ec.G * int(x[0])]\n",
    "    \n",
    "    def _morphism_label(self):\n",
    "        label = hash_function()\n",
    "        label.update('schnorr')\n",
    "        label.update(self.ec.G)\n",
    "        label.update(self.statement[0])"
   ]
  },
  {
   "cell_type": "markdown",
   "id": "282a86be",
   "metadata": {},
   "source": [
    "Proof of knowledge of a secret key `sk0` for Schnorr Signature"
   ]
  },
  {
   "cell_type": "code",
   "execution_count": 7,
   "id": "17b1d964",
   "metadata": {},
   "outputs": [
    {
     "data": {
      "text/plain": [
       "True"
      ]
     },
     "execution_count": 7,
     "metadata": {},
     "output_type": "execute_result"
    }
   ],
   "source": [
    "sk0 = [SchnorrDlog.ec.Fp.random_element()]\n",
    "pk0 = [SchnorrDlog.ec.G * Integer(sk0[0])]\n",
    "\n",
    "schnorr0 = SchnorrDlog(pk0)\n",
    "pstate, commitment = schnorr0.prover_commit(sk0)\n",
    "challenge = SchnorrDlog.ec.Fp.random_element()\n",
    "response = schnorr0.prover_response(pstate, challenge)\n",
    "schnorr0.verifier(commitment, challenge, response)"
   ]
  },
  {
   "cell_type": "markdown",
   "id": "724b8347",
   "metadata": {},
   "source": [
    "An `AndComposition`, proving knowledge of two different secret keys `sk0` and `sk1`"
   ]
  },
  {
   "cell_type": "code",
   "execution_count": 8,
   "id": "0fe6eed6",
   "metadata": {},
   "outputs": [
    {
     "data": {
      "text/plain": [
       "True"
      ]
     },
     "execution_count": 8,
     "metadata": {},
     "output_type": "execute_result"
    }
   ],
   "source": [
    "sk1 = [SchnorrDlog.ec.Fp.random_element()]\n",
    "pk1 = [G * Integer(sk1[0])]\n",
    "\n",
    "schnorr1 = SchnorrDlog(pk1)\n",
    "schnorrAnd = SigmaAndComposition(schnorr0, schnorr1)\n",
    "pstate, commitment = schnorrAnd.prover_commit((sk0, sk1))\n",
    "challenge = SchnorrDlog.ec.Fp.random_element()\n",
    "response = schnorrAnd.prover_response(pstate, challenge)\n",
    "schnorrAnd.verifier(commitment, challenge, response)"
   ]
  },
  {
   "cell_type": "markdown",
   "id": "e17b2e1b",
   "metadata": {},
   "source": [
    "Discrete Log Equality protocol example, also using the `secp256k1` curve. This is used for proving that $Y_1 = wG$ and $Y_2=wH$, where $G, H$ are generators of the `secp256k1` group. "
   ]
  },
  {
   "cell_type": "code",
   "execution_count": 9,
   "id": "3b9a7994",
   "metadata": {},
   "outputs": [],
   "source": [
    "class DlogEQ(DlogTemplate):\n",
    "    ec = secp256k1\n",
    "    n = 1\n",
    "    m = 2\n",
    "    \n",
    "    # Inputs an array of one Fp element `x`\n",
    "    # Outputs `[G * x, H * x]`\n",
    "    def _morphism(self, x):\n",
    "        return [self.ec.G * int(x[0]), self.ec.H * int(x[0])]\n",
    "    \n",
    "    def _morphism_label(self):\n",
    "        label = hash_function()\n",
    "        label.update('dleq')\n",
    "        label.update(self.ec.G)\n",
    "        label.update(self.ec.H)\n",
    "        label.update(self.statement[0])\n",
    "        label.update(self.statement[1])"
   ]
  },
  {
   "cell_type": "code",
   "execution_count": 15,
   "id": "09e262ef",
   "metadata": {},
   "outputs": [
    {
     "data": {
      "text/plain": [
       "True"
      ]
     },
     "execution_count": 15,
     "metadata": {},
     "output_type": "execute_result"
    }
   ],
   "source": [
    "witness = [DlogEQ.ec.Fp.random_element()]\n",
    "statement = [G * Integer(witness[0])]\n",
    "\n",
    "dleq = DlogEQ(statement)\n",
    "pstate, commitment = dleq.prover_commit(witness)\n",
    "challenge = dleq.ec.Fp.random_element()\n",
    "response = dleq.prover_response(pstate, challenge)\n",
    "dleq.verifier(commitment, challenge, response)"
   ]
  },
  {
   "cell_type": "code",
   "execution_count": null,
   "id": "91cd655e",
   "metadata": {},
   "outputs": [],
   "source": []
  }
 ],
 "metadata": {
  "kernelspec": {
   "display_name": "SageMath 9.5",
   "language": "sage",
   "name": "sagemath"
  },
  "language_info": {
   "codemirror_mode": {
    "name": "ipython",
    "version": 3
   },
   "file_extension": ".py",
   "mimetype": "text/x-python",
   "name": "python",
   "nbconvert_exporter": "python",
   "pygments_lexer": "ipython3",
   "version": "3.10.4"
  },
  "vscode": {
   "interpreter": {
    "hash": "7697f3f74393d0b269e74c98be4e086e88978c93129881f28c5f9f4ee75e2dfc"
   }
  }
 },
 "nbformat": 4,
 "nbformat_minor": 5
}
