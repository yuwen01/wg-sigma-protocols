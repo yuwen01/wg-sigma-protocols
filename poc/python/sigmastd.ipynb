{
 "cells": [
  {
   "cell_type": "markdown",
   "id": "5c04b711",
   "metadata": {},
   "source": [
    "# Introduction\n",
    "\n",
    "This notebook provides simple implementations of the sigma protocols specified [here](https://github.com/zkpstandard/wg-sigma-protocols/)"
   ]
  },
  {
   "cell_type": "code",
   "execution_count": 119,
   "id": "d22dc831",
   "metadata": {},
   "outputs": [],
   "source": [
    "from hashlib import sha3_256 as hash_function\n",
    "from secrets import token_bytes as random_bytes\n",
    "import pickle\n",
    "\n",
    "DOMSEP = b\"zkpstd/sigma/0.1\"\n",
    "\n",
    "HD = hash_function()\n",
    "\n",
    "BLOCK_LEN = HD.block_size\n",
    "DIGEST_LEN = HD.digest_size\n",
    "\n",
    "HD.update(DOMSEP)\n",
    "HD = HD.digest() \n",
    "\n",
    "'''\n",
    "Pads bytestring `s` with 0's, so that its length is a multiple of `BLOCK_LEN`\n",
    "'''\n",
    "def pad_to_blocklen(s: bytes) -> bytes: \n",
    "    padding = b\"\\000\" * (BLOCK_LEN - (len(s) % BLOCK_LEN))\n",
    "    return s + padding\n",
    "\n",
    "'''\n",
    "\n",
    "'''\n",
    "def hash_to_seed(b: bytes) -> int:\n",
    "    return int.from_bytes(b[:4], \"big\")"
   ]
  },
  {
   "cell_type": "markdown",
   "id": "8ed4b338",
   "metadata": {},
   "source": [
    "* `prover_commit` generates a commitment `T` and a prover state `pstate`. The prover commits to the secret witness in a way that doesn't reveal anything about the witness itself. Commitment `T` is sent to the verifier, and `pstate` is kept secret.\n",
    "* `prover_response` provides a proof of knowledge given a challenge and a prover state.\n",
    "* `label` describes the statement, parameters, and relation being proven in a 32 byte string. It's used for computing the Fiat-Shamir transform. \n",
    "* `simulate_commitment` computes a uniformly random resonse from the same distribution as `prover_commit`, given challenge and response. \n",
    "* `simulate_response` computes a uniformly random response from the same distribution as `prover_response`."
   ]
  },
  {
   "cell_type": "code",
   "execution_count": 173,
   "id": "89e6b847",
   "metadata": {},
   "outputs": [],
   "source": [
    "class SigmaProtocol:\n",
    "    def prover_commit(self, witness):\n",
    "        pass\n",
    "\n",
    "    def prover_response(self, state, challenge):\n",
    "        pass\n",
    "      \n",
    "    def label(self):\n",
    "        pass\n",
    "    \n",
    "    def simulate_commitment(self, challenge, response):\n",
    "        pass\n",
    "    \n",
    "    def simulate_response(self):\n",
    "        pass\n",
    "    \n",
    "    def challenge(self, message: bytes, commitment) -> bytes:\n",
    "        hm = hash_function()\n",
    "        hm.update(message)\n",
    "        hm = pad_to_blocklen(hm.digest())\n",
    "        \n",
    "        commitment_bytes = pad_to_blocklen(pickle.dumps(commitment))\n",
    "        \n",
    "        result = self.first_block_hash.copy()\n",
    "        result.update(hm)\n",
    "        result.update(commitment_bytes)\n",
    "        return result.digest()\n",
    "    \n",
    "    def _get_first_block_hash(self, ctx: bytes):\n",
    "        hctx = hash_function()\n",
    "        hctx.update(ctx)\n",
    "        hctx = hctx.digest()\n",
    "        \n",
    "        first_block_hash = hash_function()\n",
    "        first_block_hash.update(pad_to_blocklen(HD + self.label() + hctx))\n",
    "        return first_block_hash\n",
    "    \n",
    "    def verifier(self, commitment, challenge, response):\n",
    "        pass        \n",
    "    \n",
    "    def batchable_proof(self, witness, message: bytes):\n",
    "        pstate, commitment = self.prover_commit(witness)\n",
    "        challenge = self.challenge(message, commitment)\n",
    "        response = self.prover_response(pstate, challenge)\n",
    "        return (pickle.dumps(commitment), pickle.dumps(response))\n",
    "    \n",
    "    def batchable_verify(self, proof, message: bytes):\n",
    "        commitment_bytes, response_bytes = proof\n",
    "        commitment = pickle.loads(commitment_bytes)\n",
    "        response = pickle.loads(response_bytes)\n",
    "        \n",
    "        challenge = self.challenge(message, commitment)\n",
    "        return self.verifier(commitment, challenge, response)\n",
    "    \n",
    "    def short_proof(self, witness, message: bytes):\n",
    "        pstate, commitment = self.prover_commit(witness)\n",
    "        challenge = self.challenge(message, commitment)\n",
    "        response = self.prover_response(pstate, challenge)\n",
    "        return (pickle.dumps(challenge), pickle.dumps(response))\n",
    "    \n",
    "    def short_verify(self, proof, message: bytes):\n",
    "        challenge_bytes, response_bytes = proof\n",
    "        challenge = pickle.loads(challenge_bytes)\n",
    "        response = pickle.loads(response_bytes)\n",
    "        \n",
    "        commitment = self.simulate_commitment(challenge, response)\n",
    "        challenge_prime = self.challenge(message, commitment)\n",
    "        return challenge == challenge_prime"
   ]
  },
  {
   "cell_type": "markdown",
   "id": "c8c0c81f",
   "metadata": {},
   "source": [
    "These are parameters for `secp256k1`, one of our standard's supported curves. `Zp` is the scalar field, and `G` is the prime-order group of points.\n",
    "\n",
    "I got the constants from [here.](https://medium.com/asecuritysite-when-bob-met-alice/ni-zkp-using-discrete-log-equality-dleq-with-secp256k1-p-256-curve-25519-and-curve-448-c28ab7044259)"
   ]
  },
  {
   "cell_type": "code",
   "execution_count": 174,
   "id": "fe41f121",
   "metadata": {},
   "outputs": [],
   "source": [
    "from collections import namedtuple\n",
    "\n",
    "Zq = GF(0xfffffffffffffffffffffffffffffffffffffffffffffffffffffffefffffc2f)\n",
    "E = EllipticCurve(Zq, [0, 7])\n",
    "G = E.lift_x(0x79be667ef9dcbbac55a06295ce870b07029bfcdb2dce28d959f2815b16f81798)\n",
    "H = E.lift_x(0xc9e777de60dff3bb651b89183754bbc633c34b124429afe8cbaff130abb7bff5)\n",
    "p = G.order()\n",
    "Zp = GF(p)\n",
    "\n",
    "EC = namedtuple('EC', ['G', 'H', 'E', 'p', 'Fp'])\n",
    "secp256k1 = EC(G, H, E, p, Zp)"
   ]
  },
  {
   "cell_type": "code",
   "execution_count": 221,
   "id": "5d284862",
   "metadata": {},
   "outputs": [],
   "source": [
    "class DlogTemplate(SigmaProtocol):\n",
    "    # n is the input dimension of the homomorphism\n",
    "    # m is the output dimension of the homomorphism\n",
    "    n = None\n",
    "    m = None\n",
    "    \n",
    "    # ec specifies the elliptic curve used\n",
    "    # defaults to secp256k1\n",
    "    ec = secp256k1\n",
    "    \n",
    "    def __init__(self, ctx: bytes, statement):\n",
    "        assert(len(statement) == self.n)\n",
    "        self.statement = statement\n",
    "        self.first_block_hash = self._get_first_block_hash(ctx)\n",
    "        \n",
    "    def prover_commit(self, witness):\n",
    "        assert(len(witness) == self.m)\n",
    "        \n",
    "        # First, seed rng\n",
    "        witness_bytes = pickle.dumps(witness)\n",
    "        second_block = pad_to_blocklen(random_bytes(32) + witness_bytes)\n",
    "        h = self.first_block_hash.copy()\n",
    "        h.update(second_block)\n",
    "        commit_seed = hash_to_seed(h.digest())\n",
    "        with seed(commit_seed):\n",
    "            # nonce is an n-length array of Fp elements\n",
    "            nonce = [self.ec.Fp.random_element() for _ in range(self.n)]\n",
    "            # commitment is an m-length array of G2 elements\n",
    "            commitment = self._morphism(nonce)\n",
    "            prover_state = (witness, nonce)\n",
    "            return (prover_state, commitment)\n",
    "    \n",
    "    # Prover_state is nonce (array of n Fp elements) * witness (array of n Fp elements)\n",
    "    # challenge is bytes, but is converted to an Fp element\n",
    "    # outputs an array of n Fp elements\n",
    "    def prover_response(self, prover_state, challenge: bytes):\n",
    "        witness, nonce = prover_state\n",
    "        challenge = self._chal_from_bytes(challenge)\n",
    "        return [challenge * witness_i + nonce_i \n",
    "                for (witness_i, nonce_i) in zip(witness, nonce)]\n",
    "    \n",
    "    def simulate_response(self):\n",
    "        return [self.ec.Fp.random_element() \n",
    "                for _ in range(self.m)]\n",
    "    \n",
    "    def simulate_commitment(self, challenge: bytes, response):\n",
    "        challenge = self._chal_from_bytes(challenge)\n",
    "        morphism_of_response = self._morphism(response)\n",
    "        return [phi_i - statement_i * Integer(challenge) \n",
    "                for (phi_i, statement_i) \n",
    "                in zip(morphism_of_response, self.statement)]\n",
    "\n",
    "    def _morphism(self, x):\n",
    "        raise NotImplementedError\n",
    "        \n",
    "    def _morphism_label(self):\n",
    "        raise NotImplementedError\n",
    "    \n",
    "    def label(self):\n",
    "        return self._morphism_label()\n",
    "    \n",
    "    def verifier(self, commitment, challenge: bytes, response):\n",
    "        challenge = self._chal_from_bytes(challenge)\n",
    "        return all(phi_response_i == commitment_i + statement_i * int(challenge)\n",
    "            for phi_response_i, commitment_i, statement_i in zip(self._morphism(response), commitment, self.statement))\n",
    "    \n",
    "    def _chal_from_bytes(self, challenge: bytes) -> ec.Fp:\n",
    "        with seed(hash_to_seed(challenge)):\n",
    "            return self.ec.Fp.random_element()"
   ]
  },
  {
   "cell_type": "code",
   "execution_count": 222,
   "id": "f85ed2eb",
   "metadata": {},
   "outputs": [],
   "source": [
    "class SchnorrDlog(DlogTemplate):\n",
    "    ec = secp256k1\n",
    "    n = 1\n",
    "    m = 1\n",
    "        \n",
    "    first_label_hash = hash_function()\n",
    "    first_label_hash.update(b\"schnorr\" + pickle.dumps(ec))\n",
    "    \n",
    "    # Inputs an array of one Fp element `x`\n",
    "    # Outputs `[G * x]`\n",
    "    \n",
    "    def _morphism(self, x):\n",
    "        return [self.ec.G * int(x[0])]\n",
    "    \n",
    "    def _morphism_label(self):\n",
    "        label = hash_function()\n",
    "        label.update(b\"schnorr\")\n",
    "        label.update(pickle.dumps(self.ec.G))\n",
    "        label.update(pickle.dumps(self.statement[0]))\n",
    "        return label.digest()"
   ]
  },
  {
   "cell_type": "markdown",
   "id": "282a86be",
   "metadata": {},
   "source": [
    "Proof of knowledge of a secret key `sk0` for Schnorr Signature"
   ]
  },
  {
   "cell_type": "code",
   "execution_count": 223,
   "id": "17b1d964",
   "metadata": {},
   "outputs": [
    {
     "data": {
      "text/plain": [
       "True"
      ]
     },
     "execution_count": 223,
     "metadata": {},
     "output_type": "execute_result"
    }
   ],
   "source": [
    "sk0 = [SchnorrDlog.ec.Fp.random_element()]\n",
    "pk0 = [SchnorrDlog.ec.G * Integer(sk0[0])]\n",
    "\n",
    "schnorr0 = SchnorrDlog(b\"context\", pk0)\n",
    "pstate, commitment = schnorr0.prover_commit(sk0)\n",
    "challenge = random_bytes(32)\n",
    "response = schnorr0.prover_response(pstate, challenge)\n",
    "schnorr0.verifier(commitment, challenge, response)"
   ]
  },
  {
   "cell_type": "code",
   "execution_count": 224,
   "id": "669d09d5",
   "metadata": {},
   "outputs": [
    {
     "data": {
      "text/plain": [
       "True"
      ]
     },
     "execution_count": 224,
     "metadata": {},
     "output_type": "execute_result"
    }
   ],
   "source": [
    "batch_proof = schnorr0.batchable_proof(sk0, b\"some message\")\n",
    "schnorr0.batchable_verify(batch_proof, b\"some message\")"
   ]
  },
  {
   "cell_type": "code",
   "execution_count": 225,
   "id": "6b91441a",
   "metadata": {},
   "outputs": [
    {
     "data": {
      "text/plain": [
       "True"
      ]
     },
     "execution_count": 225,
     "metadata": {},
     "output_type": "execute_result"
    }
   ],
   "source": [
    "short_proof = schnorr0.short_proof(sk0, b\"a different message\")\n",
    "schnorr0.short_verify(short_proof, b\"a different message\")"
   ]
  },
  {
   "cell_type": "markdown",
   "id": "0a1da700",
   "metadata": {},
   "source": [
    "`SigmaAndComposition` is used to prove knowledge of two independent witnesses. "
   ]
  },
  {
   "cell_type": "code",
   "execution_count": 226,
   "id": "ec421eb6",
   "metadata": {},
   "outputs": [],
   "source": [
    "class SigmaAndComposition(SigmaProtocol):\n",
    "\n",
    "    # Left and right are both sigma protocols\n",
    "    def __init__(self, left: SigmaProtocol, right: SigmaProtocol):\n",
    "        self.left = left\n",
    "        self.right = right\n",
    "        \n",
    "        self.first_block_hash = self._get_first_block_hash(b\"\")\n",
    "        \n",
    "    def prover_commit(self, witness):\n",
    "        w0, w1 = witness \n",
    "        left_state, left_commitment = self.left.prover_commit(w0)\n",
    "        right_state, right_commitment = self.right.prover_commit(w1)\n",
    "        return (left_state, right_state), (left_commitment, right_commitment)\n",
    "    \n",
    "    def prover_response(self, state, challenge):\n",
    "        left_state, right_state = state\n",
    "        left_response = self.left.prover_response(left_state, challenge)\n",
    "        right_response = self.right.prover_response(right_state, challenge)\n",
    "        return (left_response, right_response)\n",
    "        \n",
    "    def label(self):\n",
    "        label = hash_function()\n",
    "        label.update(pad_to_blocklen(b\"zkpstd/sigma/and-v0.0.1\"))\n",
    "        label.update(self.left.label())\n",
    "        label.update(self.right.label())\n",
    "        return label.digest()\n",
    "    \n",
    "    def simulate_commitment(self, challenge, response):\n",
    "        left_response, right_response = response\n",
    "        left_commitment = self.left.simulate_commitment(challenge, left_response)\n",
    "        right_commitment = self.right.simulate_commitment(challenge, right_response)\n",
    "        return (left_commitment, right_commitment)\n",
    "    \n",
    "    def simulate_response(self):\n",
    "        return (self.left.simulate_response(), self.right.simulate_response())\n",
    "\n",
    "    def verifier(self, commitment, challenge, response):\n",
    "        left_commitment, right_commitment = commitment\n",
    "        left_response, right_response = response\n",
    "        return (self.left.verifier(left_commitment, challenge, left_response)) and \\\n",
    "        (self.right.verifier(right_commitment, challenge, right_response))"
   ]
  },
  {
   "cell_type": "markdown",
   "id": "724b8347",
   "metadata": {},
   "source": [
    "An `AndComposition`, proving knowledge of two different secret keys `sk0` and `sk1`"
   ]
  },
  {
   "cell_type": "code",
   "execution_count": 227,
   "id": "0fe6eed6",
   "metadata": {},
   "outputs": [
    {
     "data": {
      "text/plain": [
       "True"
      ]
     },
     "execution_count": 227,
     "metadata": {},
     "output_type": "execute_result"
    }
   ],
   "source": [
    "sk1 = [SchnorrDlog.ec.Fp.random_element()]\n",
    "pk1 = [G * Integer(sk1[0])]\n",
    "\n",
    "schnorr1 = SchnorrDlog(b\"context\", pk1)\n",
    "schnorrAnd = SigmaAndComposition(schnorr0, schnorr1)\n",
    "\n",
    "and_proof = schnorrAnd.batchable_proof((sk0, sk1), b\"message\")\n",
    "schnorrAnd.batchable_verify(and_proof, b\"message\")"
   ]
  },
  {
   "cell_type": "markdown",
   "id": "02673fd2",
   "metadata": {},
   "source": [
    "Discrete Log Equality protocol example, also using the `secp256k1` curve. This is used for proving that $Y_1 = wG$ and $Y_2=wH$, where $G, H$ are generators of the `secp256k1` group. "
   ]
  },
  {
   "cell_type": "code",
   "execution_count": 228,
   "id": "3b9a7994",
   "metadata": {},
   "outputs": [],
   "source": [
    "class DlogEQ(DlogTemplate):\n",
    "    ec = secp256k1\n",
    "    n = 2\n",
    "    m = 1\n",
    "    \n",
    "    # Inputs an array of one Fp element `x`\n",
    "    # Outputs `[G * x, H * x]`\n",
    "    def _morphism(self, x):\n",
    "        return [self.ec.G * int(x[0]), self.ec.H * int(x[0])]\n",
    "    \n",
    "    def _morphism_label(self):\n",
    "        label = hash_function()\n",
    "        label.update(b\"dleq\")\n",
    "        label.update(pickle.dumps(self.ec.G))\n",
    "        label.update(pickle.dumps(self.ec.H))\n",
    "        label.update(pickle.dumps(self.statement[0]))\n",
    "        label.update(pickle.dumps(self.statement[1]))\n",
    "        return label.digest()"
   ]
  },
  {
   "cell_type": "code",
   "execution_count": 229,
   "id": "e03e0f02",
   "metadata": {},
   "outputs": [
    {
     "ename": "TypeError",
     "evalue": "'sage.rings.finite_rings.integer_mod.IntegerMod_gmp' object is not subscriptable",
     "output_type": "error",
     "traceback": [
      "\u001b[0;31m---------------------------------------------------------------------------\u001b[0m",
      "\u001b[0;31mTypeError\u001b[0m                                 Traceback (most recent call last)",
      "\u001b[0;32m/tmp/ipykernel_851/1835801526.py\u001b[0m in \u001b[0;36m<cell line: 7>\u001b[0;34m()\u001b[0m\n\u001b[1;32m      5\u001b[0m \u001b[0mpstate\u001b[0m\u001b[0;34m,\u001b[0m \u001b[0mcommitment\u001b[0m \u001b[0;34m=\u001b[0m \u001b[0mdleq\u001b[0m\u001b[0;34m.\u001b[0m\u001b[0mprover_commit\u001b[0m\u001b[0;34m(\u001b[0m\u001b[0mwitness\u001b[0m\u001b[0;34m)\u001b[0m\u001b[0;34m\u001b[0m\u001b[0;34m\u001b[0m\u001b[0m\n\u001b[1;32m      6\u001b[0m \u001b[0mchallenge\u001b[0m \u001b[0;34m=\u001b[0m \u001b[0mdleq\u001b[0m\u001b[0;34m.\u001b[0m\u001b[0mec\u001b[0m\u001b[0;34m.\u001b[0m\u001b[0mFp\u001b[0m\u001b[0;34m.\u001b[0m\u001b[0mrandom_element\u001b[0m\u001b[0;34m(\u001b[0m\u001b[0;34m)\u001b[0m\u001b[0;34m\u001b[0m\u001b[0;34m\u001b[0m\u001b[0m\n\u001b[0;32m----> 7\u001b[0;31m \u001b[0mresponse\u001b[0m \u001b[0;34m=\u001b[0m \u001b[0mdleq\u001b[0m\u001b[0;34m.\u001b[0m\u001b[0mprover_response\u001b[0m\u001b[0;34m(\u001b[0m\u001b[0mpstate\u001b[0m\u001b[0;34m,\u001b[0m \u001b[0mchallenge\u001b[0m\u001b[0;34m)\u001b[0m\u001b[0;34m\u001b[0m\u001b[0;34m\u001b[0m\u001b[0m\n\u001b[0m\u001b[1;32m      8\u001b[0m \u001b[0mdleq\u001b[0m\u001b[0;34m.\u001b[0m\u001b[0mverifier\u001b[0m\u001b[0;34m(\u001b[0m\u001b[0mcommitment\u001b[0m\u001b[0;34m,\u001b[0m \u001b[0mchallenge\u001b[0m\u001b[0;34m,\u001b[0m \u001b[0mresponse\u001b[0m\u001b[0;34m)\u001b[0m\u001b[0;34m\u001b[0m\u001b[0;34m\u001b[0m\u001b[0m\n",
      "\u001b[0;32m/tmp/ipykernel_851/2464536819.py\u001b[0m in \u001b[0;36mprover_response\u001b[0;34m(self, prover_state, challenge)\u001b[0m\n\u001b[1;32m     36\u001b[0m     \u001b[0;32mdef\u001b[0m \u001b[0mprover_response\u001b[0m\u001b[0;34m(\u001b[0m\u001b[0mself\u001b[0m\u001b[0;34m,\u001b[0m \u001b[0mprover_state\u001b[0m\u001b[0;34m,\u001b[0m \u001b[0mchallenge\u001b[0m\u001b[0;34m:\u001b[0m \u001b[0mbytes\u001b[0m\u001b[0;34m)\u001b[0m\u001b[0;34m:\u001b[0m\u001b[0;34m\u001b[0m\u001b[0;34m\u001b[0m\u001b[0m\n\u001b[1;32m     37\u001b[0m         \u001b[0mwitness\u001b[0m\u001b[0;34m,\u001b[0m \u001b[0mnonce\u001b[0m \u001b[0;34m=\u001b[0m \u001b[0mprover_state\u001b[0m\u001b[0;34m\u001b[0m\u001b[0;34m\u001b[0m\u001b[0m\n\u001b[0;32m---> 38\u001b[0;31m         \u001b[0mchallenge\u001b[0m \u001b[0;34m=\u001b[0m \u001b[0mself\u001b[0m\u001b[0;34m.\u001b[0m\u001b[0m_chal_from_bytes\u001b[0m\u001b[0;34m(\u001b[0m\u001b[0mchallenge\u001b[0m\u001b[0;34m)\u001b[0m\u001b[0;34m\u001b[0m\u001b[0;34m\u001b[0m\u001b[0m\n\u001b[0m\u001b[1;32m     39\u001b[0m         return [challenge * witness_i + nonce_i \n\u001b[1;32m     40\u001b[0m                 for (witness_i, nonce_i) in zip(witness, nonce)]\n",
      "\u001b[0;32m/tmp/ipykernel_851/2464536819.py\u001b[0m in \u001b[0;36m_chal_from_bytes\u001b[0;34m(self, challenge)\u001b[0m\n\u001b[1;32m     66\u001b[0m \u001b[0;34m\u001b[0m\u001b[0m\n\u001b[1;32m     67\u001b[0m     \u001b[0;32mdef\u001b[0m \u001b[0m_chal_from_bytes\u001b[0m\u001b[0;34m(\u001b[0m\u001b[0mself\u001b[0m\u001b[0;34m,\u001b[0m \u001b[0mchallenge\u001b[0m\u001b[0;34m:\u001b[0m \u001b[0mbytes\u001b[0m\u001b[0;34m)\u001b[0m \u001b[0;34m->\u001b[0m \u001b[0mec\u001b[0m\u001b[0;34m.\u001b[0m\u001b[0mFp\u001b[0m\u001b[0;34m:\u001b[0m\u001b[0;34m\u001b[0m\u001b[0;34m\u001b[0m\u001b[0m\n\u001b[0;32m---> 68\u001b[0;31m         \u001b[0;32mwith\u001b[0m \u001b[0mseed\u001b[0m\u001b[0;34m(\u001b[0m\u001b[0mhash_to_seed\u001b[0m\u001b[0;34m(\u001b[0m\u001b[0mchallenge\u001b[0m\u001b[0;34m)\u001b[0m\u001b[0;34m)\u001b[0m\u001b[0;34m:\u001b[0m\u001b[0;34m\u001b[0m\u001b[0;34m\u001b[0m\u001b[0m\n\u001b[0m\u001b[1;32m     69\u001b[0m             \u001b[0;32mreturn\u001b[0m \u001b[0mself\u001b[0m\u001b[0;34m.\u001b[0m\u001b[0mec\u001b[0m\u001b[0;34m.\u001b[0m\u001b[0mFp\u001b[0m\u001b[0;34m.\u001b[0m\u001b[0mrandom_element\u001b[0m\u001b[0;34m(\u001b[0m\u001b[0;34m)\u001b[0m\u001b[0;34m\u001b[0m\u001b[0;34m\u001b[0m\u001b[0m\n",
      "\u001b[0;32m/tmp/ipykernel_851/1518750119.py\u001b[0m in \u001b[0;36mhash_to_seed\u001b[0;34m(b)\u001b[0m\n\u001b[1;32m     24\u001b[0m '''\n\u001b[1;32m     25\u001b[0m \u001b[0;32mdef\u001b[0m \u001b[0mhash_to_seed\u001b[0m\u001b[0;34m(\u001b[0m\u001b[0mb\u001b[0m\u001b[0;34m:\u001b[0m \u001b[0mbytes\u001b[0m\u001b[0;34m)\u001b[0m \u001b[0;34m->\u001b[0m \u001b[0mint\u001b[0m\u001b[0;34m:\u001b[0m\u001b[0;34m\u001b[0m\u001b[0;34m\u001b[0m\u001b[0m\n\u001b[0;32m---> 26\u001b[0;31m     \u001b[0;32mreturn\u001b[0m \u001b[0mint\u001b[0m\u001b[0;34m.\u001b[0m\u001b[0mfrom_bytes\u001b[0m\u001b[0;34m(\u001b[0m\u001b[0mb\u001b[0m\u001b[0;34m[\u001b[0m\u001b[0;34m:\u001b[0m\u001b[0mInteger\u001b[0m\u001b[0;34m(\u001b[0m\u001b[0;36m4\u001b[0m\u001b[0;34m)\u001b[0m\u001b[0;34m]\u001b[0m\u001b[0;34m,\u001b[0m \u001b[0;34m\"big\"\u001b[0m\u001b[0;34m)\u001b[0m\u001b[0;34m\u001b[0m\u001b[0;34m\u001b[0m\u001b[0m\n\u001b[0m",
      "\u001b[0;31mTypeError\u001b[0m: 'sage.rings.finite_rings.integer_mod.IntegerMod_gmp' object is not subscriptable"
     ]
    }
   ],
   "source": [
    "witness = [DlogEQ.ec.Fp.random_element()]\n",
    "statement = [G * Integer(witness[0]), H * Integer(witness[0])]\n",
    "\n",
    "dleq = DlogEQ(b\"ctx\", statement)\n",
    "pstate, commitment = dleq.prover_commit(witness)\n",
    "challenge = random_bytes(23)\n",
    "response = dleq.prover_response(pstate, challenge)\n",
    "dleq.verifier(commitment, challenge, response)"
   ]
  },
  {
   "cell_type": "code",
   "execution_count": null,
   "id": "631afd49",
   "metadata": {},
   "outputs": [],
   "source": []
  },
  {
   "cell_type": "code",
   "execution_count": null,
   "id": "33dacb6e",
   "metadata": {},
   "outputs": [],
   "source": []
  }
 ],
 "metadata": {
  "kernelspec": {
   "display_name": "SageMath 9.5",
   "language": "sage",
   "name": "sagemath"
  },
  "language_info": {
   "codemirror_mode": {
    "name": "ipython",
    "version": 3
   },
   "file_extension": ".py",
   "mimetype": "text/x-python",
   "name": "python",
   "nbconvert_exporter": "python",
   "pygments_lexer": "ipython3",
   "version": "3.10.4"
  },
  "vscode": {
   "interpreter": {
    "hash": "7697f3f74393d0b269e74c98be4e086e88978c93129881f28c5f9f4ee75e2dfc"
   }
  }
 },
 "nbformat": 4,
 "nbformat_minor": 5
}
