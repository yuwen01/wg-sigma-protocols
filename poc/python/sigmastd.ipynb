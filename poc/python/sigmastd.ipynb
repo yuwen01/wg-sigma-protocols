{
 "cells": [
  {
   "cell_type": "markdown",
   "id": "5c04b711",
   "metadata": {},
   "source": [
    "# Introduction\n",
    "\n",
    "This notebook provides simple implementations of the sigma protocols specified [here](https://github.com/zkpstandard/wg-sigma-protocols/)\n",
    "\n",
    "TODO get a better link"
   ]
  },
  {
   "cell_type": "code",
   "execution_count": 1,
   "id": "d22dc831",
   "metadata": {},
   "outputs": [],
   "source": [
    "from hashlib import sha256 as hash_function # not recommended for real implementations"
   ]
  },
  {
   "cell_type": "markdown",
   "id": "8ed4b338",
   "metadata": {},
   "source": [
    "* `prover_commit` generates a commitment `T` and a prover state `pstate`. The prover commits to the secret witness in a way that doesn't reveal anything about the witness itself. Commitment `T` is sent to the verifier, and `pstate` is kept secret.\n",
    "* `prover_response` provides a proof of knowledge given a challenge.\n",
    "* `label` is used to identify"
   ]
  },
  {
   "cell_type": "code",
   "execution_count": 2,
   "id": "89e6b847",
   "metadata": {},
   "outputs": [],
   "source": [
    "class SigmaProtocol:\n",
    "    def prover_commit(self, witness):\n",
    "        pass\n",
    "\n",
    "    def prover_response(self, state, challenge):\n",
    "        pass\n",
    "      \n",
    "    def label(self):\n",
    "        pass\n",
    "    \n",
    "    def simulate_commitment(self, challenge, response):\n",
    "        pass\n",
    "    \n",
    "    def simulate_response(self):\n",
    "        pass\n",
    "    \n",
    "    def verifier(self, commitment, challenge, response):\n",
    "        pass"
   ]
  },
  {
   "cell_type": "markdown",
   "id": "0a1da700",
   "metadata": {},
   "source": [
    "TODO: this is the and composition, this is the relation it proves, these are the algorithms used?"
   ]
  },
  {
   "cell_type": "code",
   "execution_count": 120,
   "id": "ec421eb6",
   "metadata": {},
   "outputs": [],
   "source": [
    "class SigmaAndComposition(SigmaProtocol):\n",
    "\n",
    "    # Left and right are both sigma protocols\n",
    "    def __init__(self, left: SigmaProtocol, right: SigmaProtocol):\n",
    "        self.left = left\n",
    "        self.right = right\n",
    "        \n",
    "    def prover_commit(self, witness):\n",
    "        w0, w1 = witness \n",
    "        left_state, left_commitment = self.left.prover_commit(w0)\n",
    "        right_state, right_commitment = self.right.prover_commit(w1)\n",
    "        return (left_state, right_state), (left_commitment, right_commitment)\n",
    "    \n",
    "    def prover_response(self, state, challenge):\n",
    "        left_state, right_state = state\n",
    "        left_response = self.left.prover_response(left_state, challenge)\n",
    "        right_response = self.right.prover_response(right_state, challenge)\n",
    "        return (left_response, right_response)\n",
    "        \n",
    "    def label(self):\n",
    "        label = hash_function()\n",
    "        label.update(\"zkpstd/sigma/and-v0.0.1\")\n",
    "        label.update(self.left.label())\n",
    "        label.update(self.right.label())\n",
    "        return label.digest()\n",
    "    \n",
    "    def simulate_commitment(self, challenge, response):\n",
    "        left_response, right_response = response\n",
    "        left_commitment = self.left.simulate_commitment(challenge, left_response)\n",
    "        right_commitment = self.right.simulate_commitment(challenge, right_response)\n",
    "    \n",
    "    def simulate_response(self):\n",
    "        return (self.left.simulate_response(), self.right.simulate_response())\n",
    "\n",
    "    def verifier(self, commitment, challenge, response):\n",
    "        left_commitment, right_commitment = commitment\n",
    "        left_response, right_response = response\n",
    "        return (self.left.verifier(left_commitment, challenge, left_response)) and \\\n",
    "        (self.right.verifier(right_commitment, challenge, right_response))"
   ]
  },
  {
   "cell_type": "markdown",
   "id": "c8c0c81f",
   "metadata": {},
   "source": [
    "These are parameters for `p-521`, one of our standard's supported curves. `Fp` is the scalar field, and `G` is the prime-order group."
   ]
  },
  {
   "cell_type": "code",
   "execution_count": 121,
   "id": "fe41f121",
   "metadata": {},
   "outputs": [],
   "source": [
    "p = 0x01ffffffffffffffffffffffffffffffffffffffffffffffffffffffffffffffffffffffffffffffffffffffffffffffffffffffffffffffffffffffffffffffffff\n",
    "K = GF(p)\n",
    "a = K(0x01fffffffffffffffffffffffffffffffffffffffffffffffffffffffffffffffffffffffffffffffffffffffffffffffffffffffffffffffffffffffffffffffffc)\n",
    "b = K(0x0051953eb9618e1c9a1f929a21a0b68540eea2da725b99b315f3b8b489918ef109e156193951ec7e937b1652c0bd3bb1bf073573df883d2c34f1ef451fd46b503f00)\n",
    "E = EllipticCurve(K, (a, b))\n",
    "G = E(0x00c6858e06b70404e9cd9e3ecb662395b4429c648139053fb521f828af606b4d3dbaa14b5e77efe75928fe1dc127a2ffa8de3348b3c1856a429bf97e7e31c2e5bd66, 0x011839296a789a3bc0045c8a5fb42c7d1bd998f54449579b446817afbd17273e662c97ee72995ef42640c550b9013fad0761353c7086a272c24088be94769fd16650)\n",
    "E.set_order(0x01fffffffffffffffffffffffffffffffffffffffffffffffffffffffffffffffffa51868783bf2f966b7fcc0148f709a5d03bb5c9b8899c47aebb6fb71e91386409 * 0x1)\n",
    "\n",
    "p_521 = {\"Fp\": K, \"E\": E, \"G\": G, \"p\": p}"
   ]
  },
  {
   "cell_type": "code",
   "execution_count": 122,
   "id": "5d284862",
   "metadata": {},
   "outputs": [],
   "source": [
    "class DlogTemplate(SigmaProtocol):\n",
    "    # n is the input dimension of the homomorphism\n",
    "    # m is the output dimension of the homomorphism\n",
    "    n = None\n",
    "    m = None\n",
    "    \n",
    "    # the input type of the homomorphism\n",
    "    Fp = None\n",
    "    \n",
    "    # The prime number defining this field\n",
    "    p = None\n",
    "    \n",
    "    # The output type of the homomorphism\n",
    "    G = None\n",
    "    \n",
    "    # The elliptic curve\n",
    "    E = None\n",
    "    \n",
    "    def __init__(self, pk):\n",
    "        assert(len(pk) == self.n)\n",
    "        self.pk = pk\n",
    "        \n",
    "    def prover_commit(self, sk):\n",
    "        assert(len(sk) == self.n)\n",
    "        # nonce is an n-length array of Fp elements\n",
    "        nonce = [self.Fp.random_element() for _ in range(self.n)]\n",
    "        # commitment is an m-length array of G2 elements\n",
    "        commitment = self._morphism(nonce)\n",
    "        prover_state = (sk, nonce)\n",
    "        return (prover_state, commitment)\n",
    "    \n",
    "    # Prover_state is nonce (array of n Fp elements) * sk (array of n Fp elements)\n",
    "    # challenge is an Fp element\n",
    "    # outputs an array of n Fp elements\n",
    "    def prover_response(self, prover_state, challenge):\n",
    "        sk, nonce = prover_state\n",
    "        return [Integer(challenge) * Integer(sk_i) + Integer(nonce_i) for (sk_i, nonce_i) in zip(sk, nonce)]\n",
    "    \n",
    "    def simulate_response(self):\n",
    "        return [self.Fp.random_element() for _ in range(self.m)]\n",
    "    \n",
    "    def simulate_commitment(self, challenge, response):\n",
    "        return [out_i - pk_i * Integer(challenge) for (out_i, pk_i) in zip(self._morphism(response), self.pk)]\n",
    "\n",
    "    def _morphism(self, x):\n",
    "        raise NotImplementedError\n",
    "        \n",
    "    def _morphism_label(self):\n",
    "        raise NonImplementedError\n",
    "    \n",
    "    def label(self):\n",
    "        return self._morphism_label()\n",
    "    \n",
    "    def verifier(self, commitment, challenge, response):\n",
    "        return all(phi_response_i == commitment_i + statement_i * Integer(challenge)\n",
    "            for phi_response_i, commitment_i, statement_i in zip(self._morphism(response), commitment, self.pk))"
   ]
  },
  {
   "cell_type": "code",
   "execution_count": 123,
   "id": "f85ed2eb",
   "metadata": {},
   "outputs": [],
   "source": [
    "class SchnorrDlog(DlogTemplate):\n",
    "    Fp = p_521[\"Fp\"]\n",
    "    G = p_521[\"G\"]\n",
    "    p = p_521[\"p\"]\n",
    "    E = p_521[\"E\"]\n",
    "    n = 1\n",
    "    m = 1\n",
    "    \n",
    "    # Inputs an array of one Fp element `x`\n",
    "    # Outputs `[G * x]`\n",
    "    def _morphism(self, x):\n",
    "        return [G * Integer(x[0])]\n",
    "    \n",
    "    def _morphism_label(self):\n",
    "        label = hash_function()\n",
    "        label.update('schnorr')\n",
    "        label.update(self.G)\n",
    "        label.update(self.pk[0])"
   ]
  },
  {
   "cell_type": "markdown",
   "id": "d9e74ad1",
   "metadata": {},
   "source": [
    "Proof of knowledge of a secret key `sk0` for Schnorr Signature"
   ]
  },
  {
   "cell_type": "code",
   "execution_count": 127,
   "id": "17b1d964",
   "metadata": {},
   "outputs": [
    {
     "data": {
      "text/plain": [
       "True"
      ]
     },
     "execution_count": 127,
     "metadata": {},
     "output_type": "execute_result"
    }
   ],
   "source": [
    "sk0 = [SchnorrDlog.Fp.random_element()]\n",
    "pk0 = [SchnorrDlog.G * Integer(sk0[0])]\n",
    "\n",
    "schnorr0 = SchnorrDlog(pk0)\n",
    "pstate, commitment = schnorr0.prover_commit(sk0)\n",
    "challenge = SchnorrDlog.Fp.random_element()\n",
    "response = schnorr0.prover_response(pstate, challenge)\n",
    "schnorr0.verifier(commitment, challenge, response)"
   ]
  },
  {
   "cell_type": "markdown",
   "id": "edea84fa",
   "metadata": {},
   "source": [
    "An `AndComposition`, proving knowledge of two different secret keys `sk0` and `sk1`"
   ]
  },
  {
   "cell_type": "code",
   "execution_count": 128,
   "id": "0fe6eed6",
   "metadata": {},
   "outputs": [
    {
     "data": {
      "text/plain": [
       "True"
      ]
     },
     "execution_count": 128,
     "metadata": {},
     "output_type": "execute_result"
    }
   ],
   "source": [
    "sk1 = [SchnorrDlog.Fp.random_element()]\n",
    "pk1 = [G * Integer(sk1[0])]\n",
    "\n",
    "schnorr1 = SchnorrDlog(pk1)\n",
    "schnorrAnd = SigmaAndComposition(schnorr0, schnorr1)\n",
    "pstate, commitment = schnorrAnd.prover_commit((sk0, sk1))\n",
    "challenge = SchnorrDlog.Fp.random_element()\n",
    "response = schnorrAnd.prover_response(pstate, challenge)\n",
    "schnorrAnd.verifier(commitment, challenge, response)"
   ]
  },
  {
   "cell_type": "code",
   "execution_count": null,
   "id": "3b9a7994",
   "metadata": {},
   "outputs": [],
   "source": []
  }
 ],
 "metadata": {
  "kernelspec": {
   "display_name": "SageMath 9.5",
   "language": "sage",
   "name": "sagemath"
  },
  "language_info": {
   "codemirror_mode": {
    "name": "ipython",
    "version": 3
   },
   "file_extension": ".py",
   "mimetype": "text/x-python",
   "name": "python",
   "nbconvert_exporter": "python",
   "pygments_lexer": "ipython3",
   "version": "3.10.4"
  },
  "vscode": {
   "interpreter": {
    "hash": "7697f3f74393d0b269e74c98be4e086e88978c93129881f28c5f9f4ee75e2dfc"
   }
  }
 },
 "nbformat": 4,
 "nbformat_minor": 5
}
